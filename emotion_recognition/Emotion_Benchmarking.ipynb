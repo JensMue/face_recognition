{
 "cells": [
  {
   "cell_type": "markdown",
   "metadata": {},
   "source": [
    "# Benchmarking Emotion Recognition"
   ]
  },
  {
   "cell_type": "markdown",
   "metadata": {},
   "source": [
    "In this notebook we perform the benchmarking of our emotion detection models. In particular, we will track two metrics:\n",
    "* weighted average precision\n",
    "* average prediction time\n",
    "\n",
    "In order to perform the benchmarking we selected 1000 random images from the test set, feeded them into the various models and computed the two metrics above. \n",
    "\n",
    "We have decided to track weighted average precision for benchmarking our models against each other. The precision is the ratio tp / (tp + fp) where tp is the number of true positives and fp the number of false positives. The precision is intuitively the ability of the classifier not to label as positive a sample that is negative. It is the fraction of events where the classifier correctly declared class i out of all instances where the classifier declared class i. Since our benchmarking dataset is imbalanced, we calculate the precision for each label and then find their average weighted by support, which is the number of true instances for each label. For balanced datasets, the weighted average precision is equal to average precision.\n",
    "\n",
    "Depending on the final implementation of our application, the prediction time of the model is also of relevance. Therefore, we test how fast each model outputs a prediction on average (in seconds). We are aware, that depending on the available computing power, prediction time may vary significantly. Yet, we are interested in the relative performance of our implemented models."
   ]
  },
  {
   "cell_type": "code",
   "execution_count": 10,
   "metadata": {},
   "outputs": [],
   "source": [
    "# import libraries\n",
    "import random, os\n",
    "import time\n",
    "import shutil\n",
    "import tensorflow as tf\n",
    "from tensorflow.keras.models import load_model\n",
    "from keras.models import model_from_json\n",
    "import numpy as np\n",
    "import matplotlib.pyplot as plt\n",
    "import pandas as pd\n",
    "from sklearn.metrics import f1_score, average_precision_score, balanced_accuracy_score, classification_report\n",
    "\n",
    "# set image target Size\n",
    "IMG_HEIGHT = 96\n",
    "IMG_WIDTH = 96 "
   ]
  },
  {
   "cell_type": "code",
   "execution_count": 11,
   "metadata": {},
   "outputs": [],
   "source": [
    "# Set directory paths relative to facial_expression_full folder: \n",
    "\n",
    "#only modify the facial_exp_dir variable such that the path reaches the folder facial_expression_full\n",
    "facial_exp_dir = \"/Users/Felix/datasets/facial_expression_full/\"\n",
    "\n",
    "#There is no need to modify the dependencies below. \n",
    "\n",
    "#Set Paths to models and weights: \n",
    "\n",
    "##\n",
    "#Models with architectures and weights in two different files: \n",
    "##\n",
    "# facial_expression_full/models_and_weights/sep_models/\"\n",
    "model_dir = facial_exp_dir + \"models_and_weights/sep_models/\"\n",
    "\n",
    "##\n",
    "#Models with architectures and weights in the same file: \n",
    "##\n",
    "# facial_expression_full/Models_and_Weights/full_models/\"\n",
    "models_p_directory = facial_exp_dir + \"models_and_weights/full_models/\"\n",
    "\n",
    "##\n",
    "#Set path to benchmarking directory\n",
    "##\n",
    "# facial_expression_full/benchmarking/\"\n",
    "benchmark_dir = facial_exp_dir + \"benchmarking/\"\n",
    "\n",
    "##\n",
    "#Set the directory for test images for benchmarking: \n",
    "##\n",
    "# facial_expression_full/benchmarking/test_images/\"\n",
    "input_dir = facial_exp_dir + \"benchmarking/test_images/\"\n"
   ]
  },
  {
   "cell_type": "code",
   "execution_count": 12,
   "metadata": {},
   "outputs": [
    {
     "data": {
      "text/html": [
       "<div>\n",
       "<style scoped>\n",
       "    .dataframe tbody tr th:only-of-type {\n",
       "        vertical-align: middle;\n",
       "    }\n",
       "\n",
       "    .dataframe tbody tr th {\n",
       "        vertical-align: top;\n",
       "    }\n",
       "\n",
       "    .dataframe thead th {\n",
       "        text-align: right;\n",
       "    }\n",
       "</style>\n",
       "<table border=\"1\" class=\"dataframe\">\n",
       "  <thead>\n",
       "    <tr style=\"text-align: right;\">\n",
       "      <th></th>\n",
       "      <th>image_name</th>\n",
       "      <th>label</th>\n",
       "    </tr>\n",
       "  </thead>\n",
       "  <tbody>\n",
       "    <tr>\n",
       "      <th>0</th>\n",
       "      <td>crying_African_244_0.png</td>\n",
       "      <td>4</td>\n",
       "    </tr>\n",
       "    <tr>\n",
       "      <th>1</th>\n",
       "      <td>fer0017590.png</td>\n",
       "      <td>3</td>\n",
       "    </tr>\n",
       "    <tr>\n",
       "      <th>2</th>\n",
       "      <td>fer0018106.png</td>\n",
       "      <td>1</td>\n",
       "    </tr>\n",
       "    <tr>\n",
       "      <th>3</th>\n",
       "      <td>fer0015716.png</td>\n",
       "      <td>2</td>\n",
       "    </tr>\n",
       "    <tr>\n",
       "      <th>4</th>\n",
       "      <td>astound_soldier_794_5.png</td>\n",
       "      <td>2</td>\n",
       "    </tr>\n",
       "  </tbody>\n",
       "</table>\n",
       "</div>"
      ],
      "text/plain": [
       "                  image_name  label\n",
       "0   crying_African_244_0.png      4\n",
       "1             fer0017590.png      3\n",
       "2             fer0018106.png      1\n",
       "3             fer0015716.png      2\n",
       "4  astound_soldier_794_5.png      2"
      ]
     },
     "execution_count": 12,
     "metadata": {},
     "output_type": "execute_result"
    }
   ],
   "source": [
    "# open the small test df \n",
    "small_benchmak_df = pd.read_csv(benchmark_dir +'small_benchmak_df')\n",
    "small_benchmak_df = small_benchmak_df[['image_name', 'label']]\n",
    "small_benchmak_df.head()"
   ]
  },
  {
   "cell_type": "code",
   "execution_count": 4,
   "metadata": {},
   "outputs": [],
   "source": [
    "# create a dictionaty mapping the image name with the numerically labeled emotion\n",
    "name_to_label_dict = pd.Series(small_benchmak_df.label.values,index=small_benchmak_df.image_name).to_dict()"
   ]
  },
  {
   "cell_type": "code",
   "execution_count": 16,
   "metadata": {},
   "outputs": [],
   "source": [
    "# create a function to decode and resize images\n",
    "def decode_and_resize(image_name):\n",
    "    image = tf.io.read_file(input_dir + image_name)\n",
    "    image = tf.image.decode_image(image, channels=3, dtype=\"uint8\")\n",
    "    image = tf.image.per_image_standardization(image) \n",
    "    image = tf.image.resize(image, [IMG_HEIGHT, IMG_WIDTH])\n",
    "    return tf.cast(image, tf.float32) / 255.0"
   ]
  },
  {
   "cell_type": "code",
   "execution_count": 17,
   "metadata": {},
   "outputs": [],
   "source": [
    "# create a class for managing the models having architectures and weights in two different files\n",
    "class FacialExpressionModel(object):\n",
    "    \n",
    "    EXPRESSIONS_LIST_NUMERIC = [i for i in range(1,8)]\n",
    "    \n",
    "    def __init__(self, model_json_file, model_weights_file):\n",
    "        \n",
    "         # initite an empty list where to store the predictions\n",
    "        self.predictions = []\n",
    "        self.prediction_times = []\n",
    "        self.average_time=0\n",
    "        self.weighted_average_precision=0\n",
    "        \n",
    "        # load model from JSON file\n",
    "        with open(model_json_file, \"r\") as json_file:\n",
    "            loaded_model_json = json_file.read()\n",
    "            self.loaded_model = model_from_json(loaded_model_json)\n",
    "\n",
    "        # load weights into the new model\n",
    "        self.loaded_model.load_weights(model_weights_file)\n",
    "        \n",
    "    def predict_emotion(self, img):\n",
    "        # get starting time\n",
    "        start_time = time.time()\n",
    "        # obtain the probability of each emotion\n",
    "        self.preds_probability = self.loaded_model.predict(img)\n",
    "        # get finishing time\n",
    "        finish_time = time.time()\n",
    "        # compute the prediction time\n",
    "        pred_time = finish_time - start_time\n",
    "        #append the prediction time\n",
    "        self.prediction_times.append(pred_time)\n",
    "        # obtain the label associated with the highest probability\n",
    "        pred = self.EXPRESSIONS_LIST_NUMERIC[np.argmax(self.preds_probability)]\n",
    "        # append the current prediction to the prediction list\n",
    "        self.predictions.append(pred)\n",
    "        \n",
    "    def compute_weighted_average_precision(self, y_true, y_pred):\n",
    "        weighted_average_precision= classification_report(y_true, y_pred, output_dict=True)['weighted avg']['precision']\n",
    "        self.weighted_average_precision  = weighted_average_precision\n",
    "        return weighted_average_precision\n",
    "        \n",
    "    def compute_avg_prediction_time(self):\n",
    "        avg_prediction_time = sum(self.prediction_times)/ len(self.prediction_times)\n",
    "        self.average_time = avg_prediction_time\n",
    "        return avg_prediction_time"
   ]
  },
  {
   "cell_type": "code",
   "execution_count": 22,
   "metadata": {},
   "outputs": [],
   "source": [
    "# create a class for managing the models having architectures and weights in the same files\n",
    "class FER_Models(object):\n",
    "    \n",
    "    EXPRESSIONS_LIST_NUMERIC = [i for i in range(1,8)]\n",
    "    \n",
    "    def __init__(self, model_weights_file):\n",
    "        \n",
    "         # initite an empty list where to store the predictions\n",
    "        self.predictions = []\n",
    "        self.prediction_times = []\n",
    "        self.average_time=0\n",
    "        self.weighted_average_precision=0\n",
    "\n",
    "        # load weights into the new model\n",
    "        self.loaded_model = load_model(model_weights_file)\n",
    "        \n",
    "    def predict_emotion(self, img):\n",
    "        # get starting time\n",
    "        start_time = time.time()\n",
    "        # obtain the probability of each emotion\n",
    "        self.preds_probability = self.loaded_model.predict(img)\n",
    "        # get finishing time\n",
    "        finish_time = time.time()\n",
    "        # compute the prediction time\n",
    "        pred_time = finish_time - start_time\n",
    "        #append the prediction time\n",
    "        self.prediction_times.append(pred_time)\n",
    "        # obtain the label associated with the highest probability\n",
    "        pred = self.EXPRESSIONS_LIST_NUMERIC[np.argmax(self.preds_probability)]\n",
    "        # append the current prediction to the prediction list\n",
    "        self.predictions.append(pred)\n",
    "        \n",
    "        #return FacialExpressionModel.EXPRESSIONS_LIST[np.argmax(self.preds)], self.preds_probability\n",
    "        \n",
    "    def compute_weighted_average_precision(self, y_true, y_pred):\n",
    "        weighted_average_precision= classification_report(y_true, y_pred, output_dict=True)['weighted avg']['precision']\n",
    "        self.weighted_average_precision  = weighted_average_precision\n",
    "        return weighted_average_precision\n",
    "        \n",
    "    def compute_avg_prediction_time(self):\n",
    "        avg_prediction_time = sum(self.prediction_times)/ len(self.prediction_times)\n",
    "        self.average_time = avg_prediction_time\n",
    "        return avg_prediction_time"
   ]
  },
  {
   "cell_type": "markdown",
   "metadata": {},
   "source": [
    "## Benchmark of the models loaded from json files"
   ]
  },
  {
   "cell_type": "code",
   "execution_count": 74,
   "metadata": {},
   "outputs": [
    {
     "data": {
      "text/plain": [
       "['resnet152V2.h5',\n",
       " 'resnet152V2_model.json',\n",
       " 'resnet_50_75e.h5',\n",
       " 'resnet_50_model.json',\n",
       " 'xception_35evaluation.h5',\n",
       " 'xception_model.json',\n",
       " 'xception_tl_ft.h5',\n",
       " 'xception_tl_ft_model.json',\n",
       " 'xception_tl_model.json',\n",
       " '.ipynb_checkpoints']"
      ]
     },
     "execution_count": 74,
     "metadata": {},
     "output_type": "execute_result"
    }
   ],
   "source": [
    "# obtain a list of all the models and the associated weights\n",
    "os.listdir(model_dir)"
   ]
  },
  {
   "cell_type": "code",
   "execution_count": 19,
   "metadata": {},
   "outputs": [],
   "source": [
    "# create a dictionary in which to store the relavent metrics\n",
    "# the structure will be: performance_dict[\"model_name\"] = [weighted_average_precision, average_time]\n",
    "performance_dict = dict()\n",
    "\n",
    "# create a list where to store the model_names and the model weights\n",
    "models = [\n",
    "    ['resnet_50_model.json', 'resnet_50_75e.h5'],\n",
    "    ['resnet152V2_model.json','resnet152V2.h5'],\n",
    "    ['xception_model.json','xception_35evaluation.h5'],\n",
    "    ['xception_tl_ft_model.json','xception_tl_ft.h5']  \n",
    "]"
   ]
  },
  {
   "cell_type": "code",
   "execution_count": 36,
   "metadata": {},
   "outputs": [
    {
     "name": "stdout",
     "output_type": "stream",
     "text": [
      "loading resnet_50_model\n",
      "model loaded\n",
      "getting the predictions\n",
      "predictions done\n",
      "computing the weighted average precision of resnet_50_model\n",
      "computing the average prediction time of resnet_50_model\n",
      "\n",
      "loading resnet_50_tl_model\n",
      "model loaded\n",
      "getting the predictions\n",
      "predictions done\n",
      "computing the weighted average precision of resnet_50_tl_model\n",
      "computing the average prediction time of resnet_50_tl_model\n",
      "\n",
      "loading resnet152V2_model\n",
      "model loaded\n",
      "getting the predictions\n",
      "predictions done\n",
      "computing the weighted average precision of resnet152V2_model\n",
      "computing the average prediction time of resnet152V2_model\n",
      "\n",
      "loading xception_model\n",
      "model loaded\n",
      "getting the predictions\n",
      "predictions done\n",
      "computing the weighted average precision of xception_model\n",
      "computing the average prediction time of xception_model\n",
      "\n",
      "loading xception_tl_ft_model\n",
      "model loaded\n",
      "getting the predictions\n",
      "predictions done\n",
      "computing the weighted average precision of xception_tl_ft_model\n",
      "computing the average prediction time of xception_tl_ft_model\n",
      "\n"
     ]
    }
   ],
   "source": [
    "# iterate over the models\n",
    "for model in models:\n",
    "    # load the model structure and its weights\n",
    "    print('loading {}'.format(model[0].split(\".\")[0]))\n",
    "    current_model = FacialExpressionModel(model_dir + model[0], model_dir + model[1])\n",
    "    print(\"model loaded\")\n",
    "    \n",
    "    print('getting the predictions')\n",
    "    # get the prediction for all 1000 testing images\n",
    "    for k,v in name_to_label_dict.items():\n",
    "        # load the image\n",
    "        img_deco = decode_and_resize(k)\n",
    "\n",
    "        # reshape as a fake batch \n",
    "        img_input = tf.expand_dims(img_deco, axis=0)\n",
    "\n",
    "        # get the prediction\n",
    "        current_model.predict_emotion(img_input)\n",
    "    print('predictions done')\n",
    "        \n",
    "    # compute the weighted_average_precision for the current model\n",
    "    print(\"computing the weighted average precision of {}\".format(model[0].split(\".\")[0]))\n",
    "    current_model.compute_weighted_average_precision(list(name_to_label_dict.values()), current_model.predictions)\n",
    "\n",
    "    # compute the average time it takes to make the prediction\n",
    "    print(\"computing the average prediction time of {}\".format(model[0].split(\".\")[0]))\n",
    "    current_model.compute_avg_prediction_time()\n",
    "    \n",
    "    # add the previous score to the performance_dict\n",
    "    performance_dict[model[0].split(\".\")[0]] = [current_model.weighted_average_precision, current_model.average_time]\n",
    "    print()"
   ]
  },
  {
   "cell_type": "code",
   "execution_count": 66,
   "metadata": {},
   "outputs": [
    {
     "data": {
      "text/plain": [
       "{'resnet_50_model': [0.599479527115729, 0.27765147948265073],\n",
       " 'resnet152V2_model': [0.5734880351966888, 0.41249992537498475],\n",
       " 'xception_model': [0.597263020443714, 0.30021450996398924],\n",
       " 'xception_tl_ft_model': [0.5151578707494016, 0.32886655640602114]}"
      ]
     },
     "execution_count": 66,
     "metadata": {},
     "output_type": "execute_result"
    }
   ],
   "source": [
    "# check the performance dictonary \n",
    "performance_dict"
   ]
  },
  {
   "cell_type": "markdown",
   "metadata": {},
   "source": [
    "## Benchmark of the remaining models loaded from .h5 files"
   ]
  },
  {
   "cell_type": "code",
   "execution_count": 55,
   "metadata": {},
   "outputs": [
    {
     "data": {
      "text/plain": [
       "['inception_model_1_FD.h5',\n",
       " 'naive_inception_model_1_FD.h5',\n",
       " 'VGG16_model_FD.h5',\n",
       " 'VGG_Inception_1_FD.h5',\n",
       " 'VGG_model_1_FD.h5',\n",
       " 'VGG_model_2_FD.h5',\n",
       " 'ResNet50_TL_FT.hdf5']"
      ]
     },
     "execution_count": 55,
     "metadata": {},
     "output_type": "execute_result"
    }
   ],
   "source": [
    "# get a list of the models having both the architecture and the weights in the same file\n",
    "models_p = []\n",
    "for file in os.listdir(models_p_directory):\n",
    "    extension = file.split(\".\")[-1]\n",
    "    if extension == \"h5\" or extension == \"hdf5\":\n",
    "        models_p.append(file)\n",
    "models_p"
   ]
  },
  {
   "cell_type": "markdown",
   "metadata": {},
   "source": [
    "From the above list we will remove the naive_inception_model_1_FD and the VGG16_model_FD because they performed rather poorly during training. "
   ]
  },
  {
   "cell_type": "code",
   "execution_count": 56,
   "metadata": {},
   "outputs": [
    {
     "data": {
      "text/plain": [
       "['inception_model_1_FD.h5',\n",
       " 'VGG_Inception_1_FD.h5',\n",
       " 'VGG_model_1_FD.h5',\n",
       " 'VGG_model_2_FD.h5',\n",
       " 'ResNet50_TL_FT.hdf5']"
      ]
     },
     "execution_count": 56,
     "metadata": {},
     "output_type": "execute_result"
    }
   ],
   "source": [
    "models_p.remove(\"naive_inception_model_1_FD.h5\")\n",
    "models_p.remove(\"VGG16_model_FD.h5\")\n",
    "models_p"
   ]
  },
  {
   "cell_type": "code",
   "execution_count": 57,
   "metadata": {},
   "outputs": [
    {
     "name": "stdout",
     "output_type": "stream",
     "text": [
      "loading inception_model_1_FD.h5\n",
      "model loaded\n",
      "getting the predictions\n",
      "predictions done\n",
      "computing the weighted average precision of inception_model_1_FD.h5\n",
      "computing the average prediction time of inception_model_1_FD.h5\n",
      "\n",
      "loading VGG_Inception_1_FD.h5\n",
      "model loaded\n",
      "getting the predictions\n",
      "predictions done\n",
      "computing the weighted average precision of VGG_Inception_1_FD.h5\n",
      "computing the average prediction time of VGG_Inception_1_FD.h5\n",
      "\n",
      "loading VGG_model_1_FD.h5\n",
      "model loaded\n",
      "getting the predictions\n",
      "predictions done\n",
      "computing the weighted average precision of VGG_model_1_FD.h5\n",
      "computing the average prediction time of VGG_model_1_FD.h5\n",
      "\n",
      "loading VGG_model_2_FD.h5\n",
      "model loaded\n",
      "getting the predictions\n",
      "predictions done\n",
      "computing the weighted average precision of VGG_model_2_FD.h5\n",
      "computing the average prediction time of VGG_model_2_FD.h5\n",
      "\n",
      "loading ResNet50_TL_FT.hdf5\n",
      "model loaded\n",
      "getting the predictions\n",
      "predictions done\n",
      "computing the weighted average precision of ResNet50_TL_FT.hdf5\n",
      "computing the average prediction time of ResNet50_TL_FT.hdf5\n",
      "\n"
     ]
    }
   ],
   "source": [
    "# iterate over the models\n",
    "performance_dict_p = dict()\n",
    "\n",
    "for model in models_p:\n",
    "    # load the model structure and its weights\n",
    "    print('loading {}'.format(model))\n",
    "    current_model = FER_Models(models_p_directory + model)\n",
    "    print(\"model loaded\")\n",
    "    \n",
    "    print('getting the predictions')\n",
    "    # get the prediction for all 1000 testing images\n",
    "    for k,v in name_to_label_dict.items():\n",
    "        # load the image\n",
    "        img_deco = decode_and_resize(k)\n",
    "\n",
    "        #reshape as a fake batch \n",
    "        img_input = tf.expand_dims(img_deco, axis=0)\n",
    "\n",
    "        # get the prediction\n",
    "        current_model.predict_emotion(img_input)\n",
    "    print('predictions done')\n",
    "        \n",
    "    # compute the weighted_average_precision for the current model\n",
    "    print(\"computing the weighted average precision of {}\".format(model))\n",
    "    current_model.compute_weighted_average_precision(list(name_to_label_dict.values()), current_model.predictions)\n",
    "\n",
    "    # compute the average time it takes to make the prediction\n",
    "    print(\"computing the average prediction time of {}\".format(model))\n",
    "    current_model.compute_avg_prediction_time()\n",
    "    \n",
    "    # add the previous score to the performance_dict\n",
    "    performance_dict_p[model] = [current_model.weighted_average_precision, current_model.average_time]\n",
    "    print()"
   ]
  },
  {
   "cell_type": "code",
   "execution_count": 77,
   "metadata": {},
   "outputs": [
    {
     "data": {
      "text/plain": [
       "{'inception_model_1_FD.h5': [0.4562538960363645, 0.24310603976249695],\n",
       " 'VGG_Inception_1_FD.h5': [0.5249140183397178, 0.22430579900741576],\n",
       " 'VGG_model_1_FD.h5': [0.4978514525761788, 0.22617317914962767],\n",
       " 'VGG_model_2_FD.h5': [0.5429461955085444, 0.2309540946483612],\n",
       " 'ResNet50_TL_FT.hdf5': [0.5645912324122788, 0.28026635384559634]}"
      ]
     },
     "execution_count": 77,
     "metadata": {},
     "output_type": "execute_result"
    }
   ],
   "source": [
    "# check the performance dictonary\n",
    "performance_dict_p"
   ]
  },
  {
   "cell_type": "code",
   "execution_count": 69,
   "metadata": {},
   "outputs": [
    {
     "data": {
      "text/plain": [
       "{'resnet_50_model': [0.599479527115729, 0.27765147948265073],\n",
       " 'resnet152V2_model': [0.5734880351966888, 0.41249992537498475],\n",
       " 'xception_model': [0.597263020443714, 0.30021450996398924],\n",
       " 'xception_tl_ft_model': [0.5151578707494016, 0.32886655640602114],\n",
       " 'inception_model_1_FD.h5': [0.4562538960363645, 0.24310603976249695],\n",
       " 'VGG_Inception_1_FD.h5': [0.5249140183397178, 0.22430579900741576],\n",
       " 'VGG_model_1_FD.h5': [0.4978514525761788, 0.22617317914962767],\n",
       " 'VGG_model_2_FD.h5': [0.5429461955085444, 0.2309540946483612],\n",
       " 'ResNet50_TL_FT.hdf5': [0.5645912324122788, 0.28026635384559634]}"
      ]
     },
     "execution_count": 69,
     "metadata": {},
     "output_type": "execute_result"
    }
   ],
   "source": [
    "# merge the 2 performance dictionaries \n",
    "performance_dict_combined = {**performance_dict, **performance_dict_p}\n",
    "performance_dict_combined"
   ]
  },
  {
   "cell_type": "code",
   "execution_count": 78,
   "metadata": {},
   "outputs": [],
   "source": [
    "# clean the model names\n",
    "performance_dict_combined_clean = {'resnet50': [0.599479527115729, 0.27765147948265073],\n",
    "                                   'resnet152V2': [0.5734880351966888, 0.41249992537498475],\n",
    "                                   'xception': [0.597263020443714, 0.30021450996398924],\n",
    "                                   'xception tl': [0.5151578707494016, 0.32886655640602114],\n",
    "                                   'inception': [0.4562538960363645, 0.24310603976249695],\n",
    "                                   'VGG Inception': [0.5249140183397178, 0.22430579900741576],\n",
    "                                   'VGG v1': [0.4978514525761788, 0.22617317914962767],\n",
    "                                   'VGG v2': [0.5429461955085444, 0.2309540946483612],\n",
    "                                   'ResNet50 TL': [0.5645912324122788, 0.28026635384559634]}"
   ]
  },
  {
   "cell_type": "markdown",
   "metadata": {},
   "source": [
    "# Benchmarking Results"
   ]
  },
  {
   "cell_type": "code",
   "execution_count": 79,
   "metadata": {},
   "outputs": [
    {
     "name": "stderr",
     "output_type": "stream",
     "text": [
      "<ipython-input-79-8e7e8b63c0a0>:14: UserWarning: FixedFormatter should only be used together with FixedLocator\n",
      "  ax.set_xticklabels(keys)\n"
     ]
    },
    {
     "data": {
      "image/png": "[encoded data removed]",
      "text/plain": [
       "<Figure size 432x288 with 1 Axes>"
      ]
     },
     "metadata": {
      "needs_background": "light"
     },
     "output_type": "display_data"
    }
   ],
   "source": [
    "# plot the results\n",
    "keys = [key for key in performance_dict_combined_clean.keys()]\n",
    "values = [value for value in performance_dict_combined_clean.values()]\n",
    "\n",
    "fig, ax = plt.subplots()\n",
    "\n",
    "ax.bar(np.arange(len(keys)) - 0.2, [value[0] for value in values],\n",
    "       width=0.2, color='b', align='center')\n",
    "\n",
    "ax.bar(np.arange(len(keys)) + 0.2,\n",
    "       [value[1] if len(value) == 2 else 0 for value in values],\n",
    "       width=0.2, color='g', align='center')\n",
    "\n",
    "ax.set_xticklabels(keys)\n",
    "ax.set_xticks(np.arange(len(keys)))\n",
    "plt.xticks(rotation=90)\n",
    "\n",
    "colors = {'weighted average precision':'blue', 'average time':'green'}  \n",
    "labels = list(colors.keys())\n",
    "handles = [plt.Rectangle((0,0),1,1, color=colors[label]) for label in labels]\n",
    "plt.legend(handles, labels, bbox_to_anchor=(1.05, 1), loc='upper left')\n",
    "\n",
    "plt.show()"
   ]
  },
  {
   "cell_type": "markdown",
   "metadata": {},
   "source": [
    "As we can see from the barplot above, ResNet50 is the model that achieves the highes weighted average precision while still keeping the average prediction time under 0.3 seconds."
   ]
  },
  {
   "cell_type": "code",
   "execution_count": 80,
   "metadata": {},
   "outputs": [
    {
     "data": {
      "text/html": [
       "<div>\n",
       "<style scoped>\n",
       "    .dataframe tbody tr th:only-of-type {\n",
       "        vertical-align: middle;\n",
       "    }\n",
       "\n",
       "    .dataframe tbody tr th {\n",
       "        vertical-align: top;\n",
       "    }\n",
       "\n",
       "    .dataframe thead th {\n",
       "        text-align: right;\n",
       "    }\n",
       "</style>\n",
       "<table border=\"1\" class=\"dataframe\">\n",
       "  <thead>\n",
       "    <tr style=\"text-align: right;\">\n",
       "      <th></th>\n",
       "      <th>weighted average precision</th>\n",
       "      <th>average time</th>\n",
       "    </tr>\n",
       "  </thead>\n",
       "  <tbody>\n",
       "    <tr>\n",
       "      <th>resnet50</th>\n",
       "      <td>0.599480</td>\n",
       "      <td>0.277651</td>\n",
       "    </tr>\n",
       "    <tr>\n",
       "      <th>resnet152V2</th>\n",
       "      <td>0.573488</td>\n",
       "      <td>0.412500</td>\n",
       "    </tr>\n",
       "    <tr>\n",
       "      <th>xception</th>\n",
       "      <td>0.597263</td>\n",
       "      <td>0.300215</td>\n",
       "    </tr>\n",
       "    <tr>\n",
       "      <th>xception tl</th>\n",
       "      <td>0.515158</td>\n",
       "      <td>0.328867</td>\n",
       "    </tr>\n",
       "    <tr>\n",
       "      <th>inception</th>\n",
       "      <td>0.456254</td>\n",
       "      <td>0.243106</td>\n",
       "    </tr>\n",
       "    <tr>\n",
       "      <th>VGG Inception</th>\n",
       "      <td>0.524914</td>\n",
       "      <td>0.224306</td>\n",
       "    </tr>\n",
       "    <tr>\n",
       "      <th>VGG v1</th>\n",
       "      <td>0.497851</td>\n",
       "      <td>0.226173</td>\n",
       "    </tr>\n",
       "    <tr>\n",
       "      <th>VGG v2</th>\n",
       "      <td>0.542946</td>\n",
       "      <td>0.230954</td>\n",
       "    </tr>\n",
       "    <tr>\n",
       "      <th>ResNet50 TL</th>\n",
       "      <td>0.564591</td>\n",
       "      <td>0.280266</td>\n",
       "    </tr>\n",
       "  </tbody>\n",
       "</table>\n",
       "</div>"
      ],
      "text/plain": [
       "               weighted average precision  average time\n",
       "resnet50                         0.599480      0.277651\n",
       "resnet152V2                      0.573488      0.412500\n",
       "xception                         0.597263      0.300215\n",
       "xception tl                      0.515158      0.328867\n",
       "inception                        0.456254      0.243106\n",
       "VGG Inception                    0.524914      0.224306\n",
       "VGG v1                           0.497851      0.226173\n",
       "VGG v2                           0.542946      0.230954\n",
       "ResNet50 TL                      0.564591      0.280266"
      ]
     },
     "execution_count": 80,
     "metadata": {},
     "output_type": "execute_result"
    }
   ],
   "source": [
    "# create a dataframe and export the data\n",
    "performance_df=pd.DataFrame.from_dict(performance_dict_combined_clean,orient='index')\n",
    "# add the columsn names\n",
    "performance_df.columns = [\"weighted average precision\", \"average time\"]\n",
    "performance_df"
   ]
  },
  {
   "cell_type": "code",
   "execution_count": 81,
   "metadata": {},
   "outputs": [],
   "source": [
    "# export data to csv file\n",
    "performance_df.to_csv(benchmark_dir + 'models_performance.csv')"
   ]
  }
 ],
 "metadata": {
  "kernelspec": {
   "display_name": "Python 3",
   "language": "python",
   "name": "python3"
  },
  "language_info": {
   "codemirror_mode": {
    "name": "ipython",
    "version": 3
   },
   "file_extension": ".py",
   "mimetype": "text/x-python",
   "name": "python",
   "nbconvert_exporter": "python",
   "pygments_lexer": "ipython3",
   "version": "3.8.6"
  }
 },
 "nbformat": 4,
 "nbformat_minor": 4
}
